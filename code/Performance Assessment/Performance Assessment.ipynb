{
 "cells": [
  {
   "cell_type": "markdown",
   "metadata": {},
   "source": [
    "# Performance Assessment"
   ]
  },
  {
   "cell_type": "code",
   "execution_count": null,
   "metadata": {},
   "outputs": [],
   "source": []
  },
  {
   "cell_type": "code",
   "execution_count": 2,
   "metadata": {},
   "outputs": [],
   "source": [
    "import librosa\n",
    "import numpy as np\n",
    "import matplotlib.pyplot as plt\n",
    "from scipy.io.wavfile import write\n",
    "import scipy.signal as signal\n",
    "import librosa\n",
    "from scipy.fftpack import fft, ifft\n",
    "INT16_FAC = (2**15)-1\n",
    "INT32_FAC = (2**31)-1\n",
    "INT64_FAC = (2**63)-1\n",
    "norm_fact = {'int16':INT16_FAC, 'int32':INT32_FAC, 'int64':INT64_FAC,'float32':1.0,'float64':1.0}\n"
   ]
  },
  {
   "cell_type": "markdown",
   "metadata": {},
   "source": [
    "### User Input Onset Detection"
   ]
  },
  {
   "cell_type": "code",
   "execution_count": 3,
   "metadata": {},
   "outputs": [
    {
     "data": {
      "text/plain": [
       "Text(0, 0.5, 'Amplitude')"
      ]
     },
     "execution_count": 3,
     "metadata": {},
     "output_type": "execute_result"
    },
    {
     "data": {
      "image/png": "[encoded data removed]",
      "text/plain": [
       "<Figure size 432x288 with 1 Axes>"
      ]
     },
     "metadata": {
      "needs_background": "light"
     },
     "output_type": "display_data"
    }
   ],
   "source": [
    "audio = '/Users/noelalben/Desktop/Helloismir.wav'\n",
    "\n",
    "y,sr = librosa.load(audio, sr = 44100)\n",
    "y = np.float32(y)/norm_fact[y.dtype.name]\n",
    "y = y+2\n",
    "plt.plot(y)\n",
    "y = np.where(y <= 0.25*np.max(y),0,y)\n",
    "plt.plot(y)\n",
    "plt.xlabel(\"Duration in samples\")\n",
    "plt.ylabel(\"Amplitude\")\n",
    "\n",
    "\n"
   ]
  },
  {
   "cell_type": "code",
   "execution_count": 4,
   "metadata": {},
   "outputs": [
    {
     "name": "stdout",
     "output_type": "stream",
     "text": [
      "[ 34048  67200 100224 133376 155264 166400 199424 232576 265600 298752\n",
      " 331776 364800 397952 430976 464128 497152 530176 563328 596352 629376\n",
      " 662528]\n"
     ]
    },
    {
     "data": {
      "text/plain": [
       "Text(0, 0.5, 'Amplitude')"
      ]
     },
     "execution_count": 4,
     "metadata": {},
     "output_type": "execute_result"
    },
    {
     "data": {
      "image/png": "[encoded data removed]",
      "text/plain": [
       "<Figure size 432x288 with 1 Axes>"
      ]
     },
     "metadata": {
      "needs_background": "light"
     },
     "output_type": "display_data"
    }
   ],
   "source": [
    "onset_frames = librosa.onset.onset_detect(y, sr=sr, hop_length=128, units='samples')\n",
    "print(onset_frames)\n",
    "plt.vlines(onset_frames, 0, 1, color='r',linestyle='solid', label='Onsets')\n",
    "plt.xlabel(\"Duration in samples\")\n",
    "plt.ylabel(\"Amplitude\")"
   ]
  },
  {
   "cell_type": "markdown",
   "metadata": {},
   "source": [
    "### Inter Onset Interval User"
   ]
  },
  {
   "cell_type": "code",
   "execution_count": 5,
   "metadata": {},
   "outputs": [],
   "source": [
    "inter_onset2 = np.zeros(onset_frames.size-1)"
   ]
  },
  {
   "cell_type": "code",
   "execution_count": 6,
   "metadata": {},
   "outputs": [],
   "source": [
    "for i  in range(inter_onset2.size-1):     \n",
    "        inter_onset2[i] =int(onset_frames[i+1])-int(onset_frames[i])"
   ]
  },
  {
   "cell_type": "code",
   "execution_count": 7,
   "metadata": {},
   "outputs": [
    {
     "name": "stdout",
     "output_type": "stream",
     "text": [
      "[33152. 33024. 33152. 21888. 11136. 33024. 33152. 33024. 33152. 33024.\n",
      " 33024. 33152. 33024. 33152. 33024. 33024. 33152. 33024. 33024.     0.]\n"
     ]
    }
   ],
   "source": [
    "print(inter_onset2)"
   ]
  },
  {
   "cell_type": "markdown",
   "metadata": {},
   "source": [
    "### Pattern Generator"
   ]
  },
  {
   "cell_type": "code",
   "execution_count": 26,
   "metadata": {},
   "outputs": [
    {
     "name": "stdout",
     "output_type": "stream",
     "text": [
      "[     0  49617  99234 165390 198468 264624 314241 363858 430014 463092\n",
      " 529248 578865 628482 694638 727716 793872 843489 893106 959262 992340]\n"
     ]
    },
    {
     "data": {
      "image/png": "[encoded data removed]",
      "text/plain": [
       "<Figure size 432x288 with 1 Axes>"
      ]
     },
     "metadata": {
      "needs_background": "light"
     },
     "output_type": "display_data"
    }
   ],
   "source": [
    "fs = 44100\n",
    "bpm= 160\n",
    "timsig = 16\n",
    "bar = 4\n",
    "s = np.array([1,0,0,1,0,0,1,0,0,0,1,0,1,0,0,0])\n",
    "\n",
    "\n",
    "while True:\n",
    "        if (60*fs%bpm != 0):\n",
    "            fs+=1\n",
    "        else:\n",
    "            break\n",
    "\n",
    "samplehop= int((60/bpm)*fs)\n",
    "x = np.zeros(int(fs*((60/bpm)*bar*timsig)))\n",
    "barc=0\n",
    "countsig=timsig\n",
    "si=0\n",
    "for counter in range(len(x)):\n",
    "        if (counter%samplehop==0):\n",
    "             imp = signal.unit_impulse((int(fs*((60/bpm)*bar*timsig))), [counter])\n",
    "             if (s[si]==1):\n",
    "                if(countsig==timsig):\n",
    "                    x = x+(imp)\n",
    "                \n",
    "                else:\n",
    "                    x = x+ (imp)\n",
    "             elif (s[si]==0):\n",
    "                  x = x\n",
    "            \n",
    "                 \n",
    "            \n",
    "                \n",
    "             counter+=1\n",
    "             countsig-=1\n",
    "             si+=1\n",
    "             if(countsig==0):\n",
    "                countsig = timsig\n",
    "                barc+=1\n",
    "                si=0\n",
    "                if(barc==bar):\n",
    "                    break\n",
    "    \n",
    "onset_gen = np.where(x>0) \n",
    "onset_gen = onset_gen[0]\n",
    "\n",
    "\n",
    "plt.plot(x)\n",
    "plt.xlabel(\"Duration in pulses\")\n",
    "plt.ylabel(\"Amplitude\")\n",
    "audio = '/Users/noelalben/Desktop/Helloismir.wav'\n",
    "\n",
    "y,sr = librosa.load(audio, sr = 44100)\n",
    "y = np.float32(y)/norm_fact[y.dtype.name]\n",
    "y = (0.5*y)+0.8\n",
    "#plt.plot(y[34048:265600])\n",
    "print(onset_gen)\n"
   ]
  },
  {
   "cell_type": "markdown",
   "metadata": {},
   "source": [
    "### Inter Onset Interval Generated Pattern"
   ]
  },
  {
   "cell_type": "code",
   "execution_count": 27,
   "metadata": {},
   "outputs": [
    {
     "data": {
      "text/plain": [
       "Text(0, 0.5, 'Amplitude')"
      ]
     },
     "execution_count": 27,
     "metadata": {},
     "output_type": "execute_result"
    },
    {
     "data": {
      "image/png": "[encoded data removed]",
      "text/plain": [
       "<Figure size 432x288 with 1 Axes>"
      ]
     },
     "metadata": {
      "needs_background": "light"
     },
     "output_type": "display_data"
    }
   ],
   "source": [
    "sample_sound = '/Users/noelalben/1e0awebapp/static/Data/SampleSounds/Hi Hat 8.wav'\n",
    "y, s = librosa.load(sample_sound, sr=fs)\n",
    "zeros = np.zeros(x.size-y.size)\n",
    "y = np.append(y,zeros)\n",
    "Y = fft(y)\n",
    "X = fft(x)\n",
    "kick1 = np.real(ifft(X*Y))\n",
    "plt.plot(kick1)\n",
    "plt.xlabel(\"Duration in pulses\")\n",
    "plt.ylabel(\"Amplitude\")"
   ]
  },
  {
   "cell_type": "code",
   "execution_count": 28,
   "metadata": {},
   "outputs": [],
   "source": [
    "inter_onset1 = np.zeros(onset_gen.size-1)"
   ]
  },
  {
   "cell_type": "code",
   "execution_count": 14,
   "metadata": {},
   "outputs": [],
   "source": [
    "for i  in range(inter_onset1.size-1):     \n",
    "        inter_onset1[i] =int(onset_gen[i+1])-int(onset_gen[i])"
   ]
  },
  {
   "cell_type": "code",
   "execution_count": 15,
   "metadata": {},
   "outputs": [
    {
     "name": "stdout",
     "output_type": "stream",
     "text": [
      "[16539. 33078. 49617. 66156. 33078. 66156. 16539. 33078. 49617. 66156.\n",
      " 33078. 66156. 16539. 33078. 49617. 66156. 33078. 66156. 16539. 33078.\n",
      " 49617. 66156.     0.]\n"
     ]
    }
   ],
   "source": [
    "print(inter_onset1)"
   ]
  },
  {
   "cell_type": "markdown",
   "metadata": {},
   "source": [
    "### Percentage Error"
   ]
  },
  {
   "cell_type": "code",
   "execution_count": 32,
   "metadata": {},
   "outputs": [
    {
     "name": "stdout",
     "output_type": "stream",
     "text": [
      "[39.49 40.62 ]\n",
      "[40.05 46.61 ]\n",
      "[42.96 38.92 ]\n"
     ]
    }
   ],
   "source": [
    "\n",
    "s = np.array([1,0,1,0])\n",
    "cnt = np.count_nonzero(s)\n",
    "perc = np.ndarray(shape= (bar-1,cnt))\n",
    "j = 0\n",
    "for i in range(bar-1):\n",
    "    for k in range(cnt):\n",
    "            perc[i,k] = (inter_onset1[j]-inter_onset2[j])\n",
    "            perc[i,k] = (perc[i,k]/(inter_onset2[j]))*100\n",
    "            j+=1\n",
    "for i in range (bar-1):\n",
    "    print('[', end = '')\n",
    "    for k in range(cnt):\n",
    "        perc[i,k] = float(\"{0:.2f}\".format(perc[i,k]))\n",
    "        s = str(perc[i,k])\n",
    "        print(s + ' ', end = '')\n",
    "    print(']', end = '')\n",
    "    print('', end = '\\n')\n"
   ]
  },
  {
   "cell_type": "code",
   "execution_count": 33,
   "metadata": {},
   "outputs": [
    {
     "name": "stdout",
     "output_type": "stream",
     "text": [
      "[61.25  63.075]\n"
     ]
    }
   ],
   "source": [
    "average = np.zeros(cnt)\n",
    "for k in range (cnt):\n",
    "    for i in range(bar-1):\n",
    "        average[k] += perc[i,k]\n",
    "print(average/cnt)"
   ]
  },
  {
   "cell_type": "code",
   "execution_count": 34,
   "metadata": {},
   "outputs": [
    {
     "data": {
      "text/plain": [
       "Text(0, 0.5, 'Deviation degree')"
      ]
     },
     "execution_count": 34,
     "metadata": {},
     "output_type": "execute_result"
    },
    {
     "data": {
      "image/png": "[encoded data removed]",
      "text/plain": [
       "<Figure size 432x288 with 1 Axes>"
      ]
     },
     "metadata": {
      "needs_background": "light"
     },
     "output_type": "display_data"
    }
   ],
   "source": [
    "plt.plot(np.arange(1,cnt+1),average,'ro')\n",
    "plt.plot(np.arange(1,cnt+1),average)\n",
    "plt.xlabel(\"Onset Interval\")\n",
    "plt.ylabel(\"Deviation degree\")\n",
    "\n"
   ]
  },
  {
   "cell_type": "code",
   "execution_count": 14,
   "metadata": {},
   "outputs": [
    {
     "name": "stdout",
     "output_type": "stream",
     "text": [
      "[13.1125 10.5925 13.7975  0.    ]\n"
     ]
    }
   ],
   "source": [
    "average2 = np.zeros(bar)\n",
    "for k in range (bar-1):\n",
    "    for i in range(cnt):\n",
    "        average2[k] += perc[k,i]\n",
    "print(average2/bar)"
   ]
  },
  {
   "cell_type": "code",
   "execution_count": null,
   "metadata": {},
   "outputs": [],
   "source": []
  },
  {
   "cell_type": "code",
   "execution_count": 15,
   "metadata": {},
   "outputs": [],
   "source": [
    "average2 = np.zeros(bar)\n"
   ]
  },
  {
   "cell_type": "code",
   "execution_count": 16,
   "metadata": {},
   "outputs": [
    {
     "data": {
      "text/plain": [
       "array([0., 0., 0., 0.])"
      ]
     },
     "execution_count": 16,
     "metadata": {},
     "output_type": "execute_result"
    }
   ],
   "source": [
    "average2"
   ]
  },
  {
   "cell_type": "code",
   "execution_count": 17,
   "metadata": {},
   "outputs": [
    {
     "ename": "IndexError",
     "evalue": "index 2 is out of bounds for axis 1 with size 1",
     "output_type": "error",
     "traceback": [
      "\u001b[0;31m---------------------------------------------------------------------------\u001b[0m",
      "\u001b[0;31mIndexError\u001b[0m                                Traceback (most recent call last)",
      "\u001b[0;32m<ipython-input-17-f07271181c96>\u001b[0m in \u001b[0;36m<module>\u001b[0;34m\u001b[0m\n\u001b[0;32m----> 1\u001b[0;31m \u001b[0mperc\u001b[0m\u001b[0;34m[\u001b[0m\u001b[0mi\u001b[0m\u001b[0;34m,\u001b[0m\u001b[0mk\u001b[0m\u001b[0;34m]\u001b[0m\u001b[0;34m\u001b[0m\u001b[0;34m\u001b[0m\u001b[0m\n\u001b[0m",
      "\u001b[0;31mIndexError\u001b[0m: index 2 is out of bounds for axis 1 with size 1"
     ]
    }
   ],
   "source": [
    "perc[i,k]\n"
   ]
  },
  {
   "cell_type": "code",
   "execution_count": 18,
   "metadata": {},
   "outputs": [
    {
     "data": {
      "text/plain": [
       "array([[52.45],\n",
       "       [42.37],\n",
       "       [55.19]])"
      ]
     },
     "execution_count": 18,
     "metadata": {},
     "output_type": "execute_result"
    }
   ],
   "source": [
    "perc"
   ]
  },
  {
   "cell_type": "code",
   "execution_count": null,
   "metadata": {},
   "outputs": [],
   "source": []
  }
 ],
 "metadata": {
  "kernelspec": {
   "display_name": "Python 3",
   "language": "python",
   "name": "python3"
  },
  "language_info": {
   "codemirror_mode": {
    "name": "ipython",
    "version": 3
   },
   "file_extension": ".py",
   "mimetype": "text/x-python",
   "name": "python",
   "nbconvert_exporter": "python",
   "pygments_lexer": "ipython3",
   "version": "3.7.4"
  }
 },
 "nbformat": 4,
 "nbformat_minor": 4
}
