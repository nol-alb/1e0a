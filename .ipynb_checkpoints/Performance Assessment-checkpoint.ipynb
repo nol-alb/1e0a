{
 "cells": [
  {
   "cell_type": "markdown",
   "metadata": {},
   "source": [
    "# Performance Assessment"
   ]
  },
  {
   "cell_type": "code",
   "execution_count": 1,
   "metadata": {},
   "outputs": [],
   "source": [
    "import librosa\n",
    "import numpy as np\n",
    "import matplotlib.pyplot as plt\n",
    "from scipy.io.wavfile import write\n",
    "import scipy.signal as signal\n",
    "import librosa\n",
    "from scipy.fftpack import fft, ifft\n",
    "INT16_FAC = (2**15)-1\n",
    "INT32_FAC = (2**31)-1\n",
    "INT64_FAC = (2**63)-1\n",
    "norm_fact = {'int16':INT16_FAC, 'int32':INT32_FAC, 'int64':INT64_FAC,'float32':1.0,'float64':1.0}\n"
   ]
  },
  {
   "cell_type": "markdown",
   "metadata": {},
   "source": [
    "### User Input Onset Detection"
   ]
  },
  {
   "cell_type": "code",
   "execution_count": 2,
   "metadata": {},
   "outputs": [
    {
     "data": {
      "text/plain": [
       "Text(0, 0.5, 'Amplitude')"
      ]
     },
     "execution_count": 2,
     "metadata": {},
     "output_type": "execute_result"
    },
    {
     "data": {
      "image/png": "[encoded data removed]",
      "text/plain": [
       "<Figure size 432x288 with 1 Axes>"
      ]
     },
     "metadata": {
      "needs_background": "light"
     },
     "output_type": "display_data"
    }
   ],
   "source": [
    "audio = '/Users/noelalben/Desktop/Rythm Recordings/WritingSample/120_bpm.wav'\n",
    "\n",
    "y,sr = librosa.load(audio, sr = 44100)\n",
    "y = np.float32(y)/norm_fact[y.dtype.name]\n",
    "y = np.where(y<0.10*np.max(y),0,y)\n",
    "plt.plot(y)\n",
    "plt.xlabel(\"Duration in samples\")\n",
    "plt.ylabel(\"Amplitude\")\n",
    "\n",
    "\n"
   ]
  },
  {
   "cell_type": "code",
   "execution_count": 3,
   "metadata": {},
   "outputs": [
    {
     "data": {
      "text/plain": [
       "Text(0, 0.5, 'Amplitude')"
      ]
     },
     "execution_count": 3,
     "metadata": {},
     "output_type": "execute_result"
    },
    {
     "data": {
      "image/png": "[encoded data removed]",
      "text/plain": [
       "<Figure size 432x288 with 1 Axes>"
      ]
     },
     "metadata": {
      "needs_background": "light"
     },
     "output_type": "display_data"
    }
   ],
   "source": [
    "onset_frames = librosa.onset.onset_detect(y, sr=sr, hop_length=128, units='samples')\n",
    "plt.vlines(onset_frames, 0, 1, color='r',linestyle='solid', label='Onsets')\n",
    "plt.xlabel(\"Duration in samples\")\n",
    "plt.ylabel(\"Amplitude\")"
   ]
  },
  {
   "cell_type": "markdown",
   "metadata": {},
   "source": [
    "### Inter Onset Interval User"
   ]
  },
  {
   "cell_type": "code",
   "execution_count": 4,
   "metadata": {},
   "outputs": [],
   "source": [
    "inter_onset2 = np.zeros(onset_frames.size-1)"
   ]
  },
  {
   "cell_type": "code",
   "execution_count": 5,
   "metadata": {},
   "outputs": [],
   "source": [
    "for i  in range(inter_onset2.size-1):     \n",
    "        inter_onset2[i] =int(onset_frames[i+1])-int(onset_frames[i])"
   ]
  },
  {
   "cell_type": "code",
   "execution_count": 6,
   "metadata": {},
   "outputs": [
    {
     "name": "stdout",
     "output_type": "stream",
     "text": [
      "[66048. 66176. 88192. 44160. 88192. 66176. 66048. 88192. 44160. 88192.\n",
      " 66176. 66176. 88192. 44032. 88192. 66176. 66176. 88192. 44032. 88320.\n",
      " 66048. 66176. 88192. 44160. 88192. 66176. 66048. 88192.     0.]\n"
     ]
    }
   ],
   "source": [
    "print(inter_onset2)"
   ]
  },
  {
   "cell_type": "markdown",
   "metadata": {},
   "source": [
    "### Pattern Generator"
   ]
  },
  {
   "cell_type": "code",
   "execution_count": 7,
   "metadata": {},
   "outputs": [
    {
     "data": {
      "text/plain": [
       "Text(0, 0.5, 'Amplitude')"
      ]
     },
     "execution_count": 7,
     "metadata": {},
     "output_type": "execute_result"
    },
    {
     "data": {
      "image/png": "[encoded data removed]",
      "text/plain": [
       "<Figure size 432x288 with 1 Axes>"
      ]
     },
     "metadata": {
      "needs_background": "light"
     },
     "output_type": "display_data"
    }
   ],
   "source": [
    "fs = 44100\n",
    "bpm= 120\n",
    "timsig = 16\n",
    "bar = 5\n",
    "s = np.array([1, 0, 0, 1, 0, 0, 1, 0, 0, 0, 1, 0, 1, 0, 0, 0])\n",
    "\n",
    "\n",
    "while True:\n",
    "        if (60*fs%bpm != 0):\n",
    "            fs+=1\n",
    "        else:\n",
    "            break\n",
    "\n",
    "samplehop= int((60/bpm)*fs)\n",
    "x = np.zeros(int(fs*((60/bpm)*bar*timsig)))\n",
    "barc=0\n",
    "countsig=timsig\n",
    "si=0\n",
    "for counter in range(len(x)):\n",
    "        if (counter%samplehop==0):\n",
    "             imp = signal.unit_impulse((int(fs*((60/bpm)*bar*timsig))), [counter])\n",
    "             if (s[si]==1):\n",
    "                if(countsig==timsig):\n",
    "                    x = x+imp\n",
    "                \n",
    "                else:\n",
    "                    x = x+ (0.316*imp)\n",
    "             elif (s[si]==0):\n",
    "                  x = x\n",
    "            \n",
    "                 \n",
    "            \n",
    "                \n",
    "             counter+=1\n",
    "             countsig-=1\n",
    "             si+=1\n",
    "             if(countsig==0):\n",
    "                countsig = timsig\n",
    "                barc+=1\n",
    "                si=0\n",
    "                if(barc==bar):\n",
    "                    break\n",
    "    \n",
    "onset_gen = np.where(x>0) \n",
    "onset_gen = onset_gen[0]\n",
    "\n",
    "plt.plot(x)\n",
    "plt.xlabel(\"Duration in samples\")\n",
    "plt.ylabel(\"Amplitude\")\n",
    "\n"
   ]
  },
  {
   "cell_type": "markdown",
   "metadata": {},
   "source": [
    "### Inter Onset Interval Generated Pattern"
   ]
  },
  {
   "cell_type": "code",
   "execution_count": 8,
   "metadata": {},
   "outputs": [],
   "source": [
    "inter_onset1 = np.zeros(onset_gen.size-1)"
   ]
  },
  {
   "cell_type": "code",
   "execution_count": 9,
   "metadata": {},
   "outputs": [],
   "source": [
    "for i  in range(inter_onset1.size-1):     \n",
    "        inter_onset1[i] =int(onset_gen[i+1])-int(onset_gen[i])"
   ]
  },
  {
   "cell_type": "code",
   "execution_count": 10,
   "metadata": {},
   "outputs": [
    {
     "name": "stdout",
     "output_type": "stream",
     "text": [
      "[66150. 66150. 88200. 44100. 88200. 66150. 66150. 88200. 44100. 88200.\n",
      " 66150. 66150. 88200. 44100. 88200. 66150. 66150. 88200. 44100. 88200.\n",
      " 66150. 66150. 88200.     0.]\n"
     ]
    }
   ],
   "source": [
    "print(inter_onset1)"
   ]
  },
  {
   "cell_type": "markdown",
   "metadata": {},
   "source": [
    "### Percentage Error"
   ]
  },
  {
   "cell_type": "code",
   "execution_count": 11,
   "metadata": {},
   "outputs": [
    {
     "name": "stdout",
     "output_type": "stream",
     "text": [
      "[0.15 -0.04 0.01 -0.14 0.01 ]\n",
      "[-0.04 0.15 0.01 -0.14 0.01 ]\n",
      "[-0.04 -0.04 0.01 0.15 0.01 ]\n",
      "[-0.04 -0.04 0.01 0.15 -0.14 ]\n"
     ]
    }
   ],
   "source": [
    "\n",
    "s = np.array([1, 0, 0, 0, 0, 0, 0, 0, 0, 0, 0, 0, 0, 0, 0, 0])\n",
    "cnt = np.count_nonzero(s)\n",
    "perc = np.ndarray(shape= (bar-1,cnt))\n",
    "j = 0\n",
    "for i in range(bar-1):\n",
    "    for k in range(cnt):\n",
    "            perc[i,k] = (inter_onset1[j]-inter_onset2[j])\n",
    "            perc[i,k] = (perc[i,k]/(inter_onset2[j]))*100\n",
    "            j+=1\n",
    "for i in range (bar-1):\n",
    "    print('[', end = '')\n",
    "    for k in range(cnt):\n",
    "        perc[i,k] = float(\"{0:.2f}\".format(perc[i,k]))\n",
    "        s = str(perc[i,k])\n",
    "        print(s + ' ', end = '')\n",
    "    print(']', end = '')\n",
    "    print('', end = '\\n')\n"
   ]
  },
  {
   "cell_type": "code",
   "execution_count": 12,
   "metadata": {},
   "outputs": [
    {
     "name": "stdout",
     "output_type": "stream",
     "text": [
      "[ 0.0075  0.0075  0.01    0.005  -0.0275]\n"
     ]
    }
   ],
   "source": [
    "average = np.zeros(cnt)\n",
    "for k in range (cnt):\n",
    "    for i in range(bar-1):\n",
    "        average[k] += perc[i,k]\n",
    "print(average/4)"
   ]
  },
  {
   "cell_type": "code",
   "execution_count": 13,
   "metadata": {},
   "outputs": [
    {
     "data": {
      "text/plain": [
       "Text(0, 0.5, 'Deviation degree')"
      ]
     },
     "execution_count": 13,
     "metadata": {},
     "output_type": "execute_result"
    },
    {
     "data": {
      "image/png": "[encoded data removed]",
      "text/plain": [
       "<Figure size 432x288 with 1 Axes>"
      ]
     },
     "metadata": {
      "needs_background": "light"
     },
     "output_type": "display_data"
    }
   ],
   "source": [
    "plt.plot(np.arange(1,cnt+1),average,'ro')\n",
    "plt.plot(np.arange(1,cnt+1),average)\n",
    "plt.xlabel(\"Onset Interval\")\n",
    "plt.ylabel(\"Deviation degree\")\n",
    "\n"
   ]
  },
  {
   "cell_type": "code",
   "execution_count": null,
   "metadata": {},
   "outputs": [],
   "source": []
  }
 ],
 "metadata": {
  "kernelspec": {
   "display_name": "Python 3",
   "language": "python",
   "name": "python3"
  },
  "language_info": {
   "codemirror_mode": {
    "name": "ipython",
    "version": 3
   },
   "file_extension": ".py",
   "mimetype": "text/x-python",
   "name": "python",
   "nbconvert_exporter": "python",
   "pygments_lexer": "ipython3",
   "version": "3.7.4"
  }
 },
 "nbformat": 4,
 "nbformat_minor": 4
}
